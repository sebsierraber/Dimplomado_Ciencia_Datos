{
 "cells": [
  {
   "cell_type": "markdown",
   "metadata": {},
   "source": [
    "![Imagen](https://logos-world.net/wp-content/uploads/2021/10/Python-Logo-700x394.png)"
   ]
  },
  {
   "cell_type": "markdown",
   "metadata": {},
   "source": [
    "# Presentación del Autor"
   ]
  },
  {
   "cell_type": "markdown",
   "metadata": {},
   "source": [
    "<img src=\"https://media.licdn.com/dms/image/C4E03AQELpcB0no6MaA/profile-displayphoto-shrink_800_800/0/1661398712788?e=1681948800&v=beta&t=kJ_Wx4t1_DCPxldBGopIYyTy68rvb4ufUMEgqjGWbuI\" style=\"float:right; width:170px; height:170px;\">\n",
    "\n",
    " Sebastián Sierra Bernal, Ingeniero Civil de la Universidad Nacional de Colombia, Especialista en Sistemas de Información Geográfica (SIG) de la Universidad Distrital Francisco José de Caldas, estudiante activo del programa de Maestría en Ciencias -Estadística Nacional en la Universidad . Con experiencia en como investigador en el área de recursos hídricos (oferta/demanda, modelación hidrológica e hidrodinámica a partir de información de sensores remotos), y como coordinador de procesos catastrales."
   ]
  },
  {
   "cell_type": "markdown",
   "metadata": {},
   "source": [
    "# Combinación Lineal"
   ]
  },
  {
   "cell_type": "markdown",
   "metadata": {},
   "source": [
    "Dados dos conjuntos A y B, se define la combinación lineal de estos de la siguiente manera:\n",
    "\n",
    "$\\sum_{\\substack{a \\in A \\\\ b \\in B}} \\alpha b$\n",
    "\n",
    "Un caso particular es de especial interés cuando uno de estos conjuntos es de escalares, y el otro, de vectores. Por ejemplo:\n",
    "\n",
    "$3\\left(\\begin{array}{l}0 \\\\ 1 \\\\ 2\\end{array}\\right)+\\frac{1}{2}\\left(\\begin{array}{l}8 \\\\ 0 \\\\ 2\\end{array}\\right) = \\begin{array}{l}4 \\\\ 3 \\\\ 7\\end{array}$"
   ]
  },
  {
   "cell_type": "markdown",
   "metadata": {},
   "source": [
    "Este y algunos otros temas de álgebra lineal en el [texto de Stanley Grossman](https://www.google.com/url?sa=t&rct=j&q=&esrc=s&source=web&cd=&cad=rja&uact=8&ved=2ahUKEwiIqLur0JH9AhVCSzABHcJiAGYQFnoECA4QAQ&url=http%3A%2F%2Fup-rid2.up.ac.pa%3A8080%2Fxmlui%2Fbitstream%2Fhandle%2F123456789%2F1326%2F%25C3%2583%2520lgebra%2520lineal.pdf%3Fsequence%3D1&usg=AOvVaw0X147Y586hcAh3kVjtIPvy)"
   ]
  },
  {
   "cell_type": "markdown",
   "metadata": {},
   "source": [
    "[Open In Colab](https://colab.research.google.com/drive/1IqnaMcCI5sAmhLb1XCDcZVXYYrsTP3uu?authuser=1)"
   ]
  },
  {
   "cell_type": "code",
   "execution_count": null,
   "metadata": {},
   "outputs": [],
   "source": []
  }
 ],
 "metadata": {
  "kernelspec": {
   "display_name": "Python 3",
   "language": "python",
   "name": "python3"
  },
  "language_info": {
   "codemirror_mode": {
    "name": "ipython",
    "version": 3
   },
   "file_extension": ".py",
   "mimetype": "text/x-python",
   "name": "python",
   "nbconvert_exporter": "python",
   "pygments_lexer": "ipython3",
   "version": "3.8.5"
  }
 },
 "nbformat": 4,
 "nbformat_minor": 4
}
